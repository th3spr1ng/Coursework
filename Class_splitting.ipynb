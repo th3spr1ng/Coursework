{
 "cells": [
  {
   "cell_type": "markdown",
   "id": "abstract-karaoke",
   "metadata": {},
   "source": [
    "## Data reading, observing it"
   ]
  },
  {
   "cell_type": "code",
   "execution_count": 3,
   "id": "opposed-constitution",
   "metadata": {},
   "outputs": [],
   "source": [
    "import os\n",
    "import time\n",
    "import numpy as np\n",
    "import seaborn as sns\n",
    "\n",
    "import pandas as pd\n",
    "\n",
    "from Bio import SeqIO\n",
    "from pybedtools import BedTool\n",
    "from tqdm.notebook import tqdm\n",
    "from profilehooks import timecall\n",
    "\n",
    "import matplotlib\n",
    "import matplotlib.pyplot as plt\n",
    "import pyranges as pr"
   ]
  },
  {
   "cell_type": "code",
   "execution_count": 4,
   "id": "hindu-washington",
   "metadata": {},
   "outputs": [],
   "source": [
    "link1 = '/home/fedor/Documents/HSE/2020-2021/Bioinformatics/data/hg38/input/quadruplex/quad_minus_hg38.bed'\n",
    "bed1 = BedTool(link1).sort()\n",
    "quad_minus = bed1.to_dataframe()\n",
    "quad_minus['strand'] = '-'\n",
    "quad_minus['length'] = quad_minus['end'] - quad_minus['start']\n",
    "# quad_minus = quad_minus[quad_minus['length'] < 1000]\n",
    "\n",
    "link2 = '/home/fedor/Documents/HSE/2020-2021/Bioinformatics/data/hg38/input/quadruplex/quad_plus_hg38.bed'\n",
    "quad_plus = pr.read_bed(link2)\n",
    "bed2 = BedTool(link2).sort()\n",
    "quad_plus = bed2.to_dataframe()\n",
    "quad_plus['strand'] = '+'\n",
    "quad_plus['length'] = quad_plus['end'] - quad_plus['start']\n",
    "# quad_plus = quad_plus[quad_plus['length'] < 1000]\n",
    "\n",
    "quad = quad_plus.append(quad_minus)\n",
    "\n",
    "\n",
    "link3 = '/home/fedor/Documents/HSE/2020-2021/Bioinformatics/data/hg38/input/ZDNA_datasets-master/Wu_hg38.bed'\n",
    "bed3 = BedTool(link3).sort()\n",
    "Z_dna = bed3.to_dataframe()\n",
    "Z_dna['length'] = Z_dna['end'] - Z_dna['start']"
   ]
  },
  {
   "cell_type": "code",
   "execution_count": 5,
   "id": "broken-cancer",
   "metadata": {},
   "outputs": [
    {
     "data": {
      "text/plain": [
       "array([[<AxesSubplot:title={'center':'length'}>]], dtype=object)"
      ]
     },
     "execution_count": 5,
     "metadata": {},
     "output_type": "execute_result"
    },
    {
     "data": {
      "image/png": "[encoded data removed]",
      "text/plain": [
       "<Figure size 432x288 with 1 Axes>"
      ]
     },
     "metadata": {
      "needs_background": "light"
     },
     "output_type": "display_data"
    }
   ],
   "source": [
    "quad[quad['length'] <= quad['length'].quantile(0.99)].hist(column='length', bins=20)"
   ]
  },
  {
   "cell_type": "code",
   "execution_count": 6,
   "id": "empty-expression",
   "metadata": {},
   "outputs": [],
   "source": [
    "del quad_minus, quad_plus"
   ]
  },
  {
   "cell_type": "code",
   "execution_count": 7,
   "id": "improving-house",
   "metadata": {},
   "outputs": [
    {
     "data": {
      "text/html": [
       "<div>\n",
       "<style scoped>\n",
       "    .dataframe tbody tr th:only-of-type {\n",
       "        vertical-align: middle;\n",
       "    }\n",
       "\n",
       "    .dataframe tbody tr th {\n",
       "        vertical-align: top;\n",
       "    }\n",
       "\n",
       "    .dataframe thead th {\n",
       "        text-align: right;\n",
       "    }\n",
       "</style>\n",
       "<table border=\"1\" class=\"dataframe\">\n",
       "  <thead>\n",
       "    <tr style=\"text-align: right;\">\n",
       "      <th></th>\n",
       "      <th>start</th>\n",
       "      <th>end</th>\n",
       "      <th>length</th>\n",
       "    </tr>\n",
       "  </thead>\n",
       "  <tbody>\n",
       "    <tr>\n",
       "      <th>count</th>\n",
       "      <td>4.551000e+03</td>\n",
       "      <td>4.551000e+03</td>\n",
       "      <td>4551.000000</td>\n",
       "    </tr>\n",
       "    <tr>\n",
       "      <th>mean</th>\n",
       "      <td>7.304377e+07</td>\n",
       "      <td>7.304444e+07</td>\n",
       "      <td>670.805757</td>\n",
       "    </tr>\n",
       "    <tr>\n",
       "      <th>std</th>\n",
       "      <td>5.772993e+07</td>\n",
       "      <td>5.772995e+07</td>\n",
       "      <td>1191.718044</td>\n",
       "    </tr>\n",
       "    <tr>\n",
       "      <th>min</th>\n",
       "      <td>1.120000e+02</td>\n",
       "      <td>1.022200e+04</td>\n",
       "      <td>84.000000</td>\n",
       "    </tr>\n",
       "    <tr>\n",
       "      <th>25%</th>\n",
       "      <td>2.835758e+07</td>\n",
       "      <td>2.835802e+07</td>\n",
       "      <td>194.000000</td>\n",
       "    </tr>\n",
       "    <tr>\n",
       "      <th>50%</th>\n",
       "      <td>5.847490e+07</td>\n",
       "      <td>5.847504e+07</td>\n",
       "      <td>342.000000</td>\n",
       "    </tr>\n",
       "    <tr>\n",
       "      <th>75%</th>\n",
       "      <td>1.083908e+08</td>\n",
       "      <td>1.083913e+08</td>\n",
       "      <td>686.000000</td>\n",
       "    </tr>\n",
       "    <tr>\n",
       "      <th>max</th>\n",
       "      <td>2.489457e+08</td>\n",
       "      <td>2.489464e+08</td>\n",
       "      <td>18220.000000</td>\n",
       "    </tr>\n",
       "  </tbody>\n",
       "</table>\n",
       "</div>"
      ],
      "text/plain": [
       "              start           end        length\n",
       "count  4.551000e+03  4.551000e+03   4551.000000\n",
       "mean   7.304377e+07  7.304444e+07    670.805757\n",
       "std    5.772993e+07  5.772995e+07   1191.718044\n",
       "min    1.120000e+02  1.022200e+04     84.000000\n",
       "25%    2.835758e+07  2.835802e+07    194.000000\n",
       "50%    5.847490e+07  5.847504e+07    342.000000\n",
       "75%    1.083908e+08  1.083913e+08    686.000000\n",
       "max    2.489457e+08  2.489464e+08  18220.000000"
      ]
     },
     "execution_count": 7,
     "metadata": {},
     "output_type": "execute_result"
    }
   ],
   "source": [
    "Z_dna.describe()"
   ]
  },
  {
   "cell_type": "markdown",
   "id": "unique-qualification",
   "metadata": {},
   "source": [
    "We see that mean size of Z dna is 670"
   ]
  },
  {
   "cell_type": "code",
   "execution_count": 8,
   "id": "spectacular-freight",
   "metadata": {},
   "outputs": [
    {
     "data": {
      "text/plain": [
       "array([[<AxesSubplot:title={'center':'length'}>]], dtype=object)"
      ]
     },
     "execution_count": 8,
     "metadata": {},
     "output_type": "execute_result"
    },
    {
     "data": {
      "image/png": "[encoded data removed]",
      "text/plain": [
       "<Figure size 432x288 with 1 Axes>"
      ]
     },
     "metadata": {
      "needs_background": "light"
     },
     "output_type": "display_data"
    }
   ],
   "source": [
    "Z_dna[Z_dna['length'] <= Z_dna['length'].quantile(0.99)].hist(column='length', bins=20)"
   ]
  },
  {
   "cell_type": "markdown",
   "id": "dried-separate",
   "metadata": {},
   "source": [
    "## Splitting to classes"
   ]
  },
  {
   "cell_type": "markdown",
   "id": "industrial-weather",
   "metadata": {},
   "source": [
    "We will have classes containing Z_dna and containing quadruplex"
   ]
  },
  {
   "cell_type": "markdown",
   "id": "loose-relative",
   "metadata": {},
   "source": [
    "For model training we set a region to be of size 1000bp. \n",
    "\n",
    "So, in Z-DNA class we center them at 340 (average value), and the remaining region is symmetrucally distributed to the left and right flanks of Z-DNA. Final sample will include only those regions that do not contain quadruplexes\n",
    "\n",
    "In quadruplex class we do the same, but for quadruplex."
   ]
  },
  {
   "cell_type": "code",
   "execution_count": 9,
   "id": "hydraulic-columbia",
   "metadata": {},
   "outputs": [],
   "source": [
    "Z_DNA = Z_dna[Z_dna['length'] <= 1000]\n",
    "quad = quad[quad['length'] <= 1000]"
   ]
  },
  {
   "cell_type": "code",
   "execution_count": 10,
   "id": "patient-procurement",
   "metadata": {},
   "outputs": [],
   "source": [
    "del Z_dna"
   ]
  },
  {
   "cell_type": "markdown",
   "id": "logical-gardening",
   "metadata": {},
   "source": [
    "Пишем функцию для разархивации фрхива по имени"
   ]
  },
  {
   "cell_type": "code",
   "execution_count": 11,
   "id": "comic-advisory",
   "metadata": {},
   "outputs": [],
   "source": [
    "import gzip\n",
    "\n",
    "def read_fasta(chr_name):\n",
    "    path = '/home/fedor/Documents/HSE/2020-2021/Bioinformatics/data/hg38/input/genome/chromosomes/hgdownload.soe.ucsc.edu/goldenPath/hg38/chromosomes/'\n",
    "    path = path + chr_name + '.fa.gz'\n",
    "    f = gzip.open(path, 'rb')\n",
    "    fasta = f.read()\n",
    "    f.close()\n",
    "\n",
    "    fasta = str(fasta.upper())\n",
    "    \n",
    "    new_fasta = []\n",
    "    poss_nums = 'ATCG'\n",
    "    for ch in fasta:\n",
    "        if ch in poss_nums:\n",
    "            new_fasta.append(ch)\n",
    "    \n",
    "    return new_fasta"
   ]
  },
  {
   "cell_type": "code",
   "execution_count": 12,
   "id": "viral-milwaukee",
   "metadata": {},
   "outputs": [],
   "source": [
    "# class 1 - only Z_DNA\n",
    "def make_class_1(ZDNA, quad):\n",
    "    new_rows = []\n",
    "    for i, row in tqdm(ZDNA.iterrows()):\n",
    "        start = row['start']\n",
    "        end = row['end']\n",
    "        length = row['length']\n",
    "        chromo = row['chrom']\n",
    "        \n",
    "        flag = 1\n",
    "        \n",
    "        delta = 500 - int(length/2)\n",
    "        left_border = start - delta\n",
    "        right_border = end + delta\n",
    "        \n",
    "        quad_m = quad[quad['chrom'] == chromo]\n",
    "        \n",
    "        if (quad_m[(quad_m['start'] > left_border) & (quad_m['end'] < right_border)].shape[0] > 0):\n",
    "            flag = 0\n",
    "            \n",
    "        if (quad_m[(quad_m['start'] < left_border) & (quad_m['end'] < right_border) & (quad_m['end'] > left_border)].shape[0] > 0):\n",
    "            flag = 0\n",
    "            \n",
    "        if (quad_m[(quad_m['start'] > left_border) & (quad_m['end'] > right_border) & (quad_m['start'] < right_border)].shape[0] > 0):\n",
    "            flag = 0\n",
    "        \n",
    "        if flag == 1:\n",
    "            row['start'] = left_border\n",
    "            row['end'] = right_border\n",
    "            row['length'] = 1000\n",
    "            new_rows.append(row)\n",
    "    \n",
    "    return pd.DataFrame(new_rows)\n",
    "\n",
    "            \n",
    "def make_class_2(ZDNA, quad):\n",
    "    new_rows = []\n",
    "    for i, row in tqdm(quad.iterrows()):\n",
    "        start = row['start']\n",
    "        end = row['end']\n",
    "        length = row['length']\n",
    "        chromo = row['chrom']\n",
    "\n",
    "        \n",
    "        flag = 1\n",
    "        \n",
    "        delta = 500 - int(length/2)\n",
    "        left_border = start - delta\n",
    "        right_border = end + delta\n",
    "        \n",
    "        ZDNA_m = ZDNA[ZDNA['chrom'] == chromo]\n",
    "\n",
    "        \n",
    "        if (ZDNA_m[(ZDNA_m['start'] > left_border) & (ZDNA_m['end'] < right_border)].shape[0] > 0):\n",
    "            flag = 0\n",
    "            \n",
    "        if (ZDNA_m[(ZDNA_m['start'] < left_border) & (ZDNA_m['end'] < right_border) & (ZDNA_m['end'] > left_border)].shape[0] > 0):\n",
    "            flag = 0\n",
    "            \n",
    "        if (ZDNA_m[(ZDNA_m['start'] > left_border) & (ZDNA_m['end'] > right_border) & (ZDNA_m['start'] < right_border)].shape[0] > 0):\n",
    "            flag = 0\n",
    "        \n",
    "        if flag == 1:\n",
    "            row['start'] = left_border\n",
    "            row['end'] = right_border\n",
    "            row['length'] = 1000\n",
    "            new_rows.append(row)\n",
    "            \n",
    "    return pd.DataFrame(new_rows)"
   ]
  },
  {
   "cell_type": "code",
   "execution_count": 13,
   "id": "oriented-parade",
   "metadata": {},
   "outputs": [],
   "source": [
    "# some_f = read_fasta('chr1')"
   ]
  },
  {
   "cell_type": "code",
   "execution_count": 14,
   "id": "afraid-handy",
   "metadata": {},
   "outputs": [
    {
     "data": {
      "text/html": [
       "<div>\n",
       "<style scoped>\n",
       "    .dataframe tbody tr th:only-of-type {\n",
       "        vertical-align: middle;\n",
       "    }\n",
       "\n",
       "    .dataframe tbody tr th {\n",
       "        vertical-align: top;\n",
       "    }\n",
       "\n",
       "    .dataframe thead th {\n",
       "        text-align: right;\n",
       "    }\n",
       "</style>\n",
       "<table border=\"1\" class=\"dataframe\">\n",
       "  <thead>\n",
       "    <tr style=\"text-align: right;\">\n",
       "      <th></th>\n",
       "      <th>chrom</th>\n",
       "      <th>start</th>\n",
       "      <th>end</th>\n",
       "      <th>strand</th>\n",
       "      <th>length</th>\n",
       "    </tr>\n",
       "  </thead>\n",
       "  <tbody>\n",
       "    <tr>\n",
       "      <th>0</th>\n",
       "      <td>chr1</td>\n",
       "      <td>10000</td>\n",
       "      <td>10524</td>\n",
       "      <td>+</td>\n",
       "      <td>524</td>\n",
       "    </tr>\n",
       "    <tr>\n",
       "      <th>1</th>\n",
       "      <td>chr1</td>\n",
       "      <td>13933</td>\n",
       "      <td>14098</td>\n",
       "      <td>+</td>\n",
       "      <td>165</td>\n",
       "    </tr>\n",
       "    <tr>\n",
       "      <th>2</th>\n",
       "      <td>chr1</td>\n",
       "      <td>14218</td>\n",
       "      <td>14398</td>\n",
       "      <td>+</td>\n",
       "      <td>180</td>\n",
       "    </tr>\n",
       "    <tr>\n",
       "      <th>3</th>\n",
       "      <td>chr1</td>\n",
       "      <td>14428</td>\n",
       "      <td>14683</td>\n",
       "      <td>+</td>\n",
       "      <td>255</td>\n",
       "    </tr>\n",
       "    <tr>\n",
       "      <th>4</th>\n",
       "      <td>chr1</td>\n",
       "      <td>15058</td>\n",
       "      <td>15238</td>\n",
       "      <td>+</td>\n",
       "      <td>180</td>\n",
       "    </tr>\n",
       "  </tbody>\n",
       "</table>\n",
       "</div>"
      ],
      "text/plain": [
       "  chrom  start    end strand  length\n",
       "0  chr1  10000  10524      +     524\n",
       "1  chr1  13933  14098      +     165\n",
       "2  chr1  14218  14398      +     180\n",
       "3  chr1  14428  14683      +     255\n",
       "4  chr1  15058  15238      +     180"
      ]
     },
     "execution_count": 14,
     "metadata": {},
     "output_type": "execute_result"
    }
   ],
   "source": [
    "quad.head()"
   ]
  },
  {
   "cell_type": "code",
   "execution_count": 15,
   "id": "written-assist",
   "metadata": {},
   "outputs": [
    {
     "data": {
      "application/vnd.jupyter.widget-view+json": {
       "model_id": "d854432d261646809a48e1739a8675a5",
       "version_major": 2,
       "version_minor": 0
      },
      "text/plain": [
       "0it [00:00, ?it/s]"
      ]
     },
     "metadata": {},
     "output_type": "display_data"
    },
    {
     "data": {
      "application/vnd.jupyter.widget-view+json": {
       "model_id": "7a9c8099cdcb431cb6b9906325aa13f7",
       "version_major": 2,
       "version_minor": 0
      },
      "text/plain": [
       "0it [00:00, ?it/s]"
      ]
     },
     "metadata": {},
     "output_type": "display_data"
    }
   ],
   "source": [
    "class_1 = make_class_1(Z_DNA, quad)\n",
    "class_2 = make_class_2(Z_DNA, quad)"
   ]
  },
  {
   "cell_type": "code",
   "execution_count": 16,
   "id": "funny-secretary",
   "metadata": {},
   "outputs": [],
   "source": [
    "all_set = set(class_1['chrom'].unique())\n",
    "cl2_set = set(class_2['chrom'].unique())\n",
    "all_set.update(cl2_set)"
   ]
  },
  {
   "cell_type": "code",
   "execution_count": 17,
   "id": "criminal-senior",
   "metadata": {},
   "outputs": [
    {
     "data": {
      "application/vnd.jupyter.widget-view+json": {
       "model_id": "388531a64d3d4819ad5efd79a676e7e2",
       "version_major": 2,
       "version_minor": 0
      },
      "text/plain": [
       "  0%|          | 0/38 [00:00<?, ?it/s]"
      ]
     },
     "metadata": {},
     "output_type": "display_data"
    }
   ],
   "source": [
    "new_rows_cl1 = []\n",
    "new_rows_cl2 = []\n",
    "\n",
    "for chromosome in tqdm(all_set):\n",
    "    class_1_chr = class_1[class_1['chrom'] == chromosome]\n",
    "    class_2_chr = class_2[class_2['chrom'] == chromosome]\n",
    "    \n",
    "    nucleotides = read_fasta(chromosome)\n",
    "    \n",
    "    for i, row in class_1_chr.iterrows():\n",
    "        start = row['start']\n",
    "        end = row['end']\n",
    "        \n",
    "        if (end < len(nucleotides)):\n",
    "            sequence = nucleotides[start : end]\n",
    "            row['seq'] = ''.join(sequence)\n",
    "\n",
    "            new_rows_cl1.append(row)\n",
    "            \n",
    "    new_rows_cl2 = []\n",
    "    for i, row in class_2_chr.iterrows():\n",
    "        start = row['start']\n",
    "        end = row['end']\n",
    "        \n",
    "        if (end < len(nucleotides)):\n",
    "            sequence = nucleotides[start : end]\n",
    "            row['seq'] = ''.join(sequence)\n",
    "\n",
    "            new_rows_cl2.append(row)\n",
    "        \n",
    "class1 = pd.DataFrame(new_rows_cl1)\n",
    "class2 = pd.DataFrame(new_rows_cl2)"
   ]
  },
  {
   "cell_type": "code",
   "execution_count": 19,
   "id": "tired-program",
   "metadata": {},
   "outputs": [
    {
     "data": {
      "text/html": [
       "<div>\n",
       "<style scoped>\n",
       "    .dataframe tbody tr th:only-of-type {\n",
       "        vertical-align: middle;\n",
       "    }\n",
       "\n",
       "    .dataframe tbody tr th {\n",
       "        vertical-align: top;\n",
       "    }\n",
       "\n",
       "    .dataframe thead th {\n",
       "        text-align: right;\n",
       "    }\n",
       "</style>\n",
       "<table border=\"1\" class=\"dataframe\">\n",
       "  <thead>\n",
       "    <tr style=\"text-align: right;\">\n",
       "      <th></th>\n",
       "      <th>chrom</th>\n",
       "      <th>start</th>\n",
       "      <th>end</th>\n",
       "      <th>length</th>\n",
       "      <th>seq</th>\n",
       "    </tr>\n",
       "  </thead>\n",
       "  <tbody>\n",
       "    <tr>\n",
       "      <th>2010</th>\n",
       "      <td>chr18</td>\n",
       "      <td>106490</td>\n",
       "      <td>107491</td>\n",
       "      <td>1000</td>\n",
       "      <td>CCCAACAGTGCAATTTGCTGGGTTATATGGTAAGCATATGTTTAGT...</td>\n",
       "    </tr>\n",
       "    <tr>\n",
       "      <th>2011</th>\n",
       "      <td>chr18</td>\n",
       "      <td>107683</td>\n",
       "      <td>108683</td>\n",
       "      <td>1000</td>\n",
       "      <td>TTCACCATGTTGTCCAGGCTGGTTTCGAACTCCTGACATCAGGTGA...</td>\n",
       "    </tr>\n",
       "    <tr>\n",
       "      <th>2012</th>\n",
       "      <td>chr18</td>\n",
       "      <td>109561</td>\n",
       "      <td>110561</td>\n",
       "      <td>1000</td>\n",
       "      <td>GCTGGGATTACAGGCGTGAGCCACCATGCCTGGCTGTTTAACTATT...</td>\n",
       "    </tr>\n",
       "    <tr>\n",
       "      <th>2014</th>\n",
       "      <td>chr18</td>\n",
       "      <td>299114</td>\n",
       "      <td>300115</td>\n",
       "      <td>1000</td>\n",
       "      <td>TTCTGCACTGAAAGAAGGACTTGTTCAAATGGACTCTGGGTTGAAA...</td>\n",
       "    </tr>\n",
       "    <tr>\n",
       "      <th>2018</th>\n",
       "      <td>chr18</td>\n",
       "      <td>13168321</td>\n",
       "      <td>13169322</td>\n",
       "      <td>1000</td>\n",
       "      <td>GAACAGAAAGAACTTAGCCTGAGGCCTGTTCCAGGGGCTCAGGGTG...</td>\n",
       "    </tr>\n",
       "  </tbody>\n",
       "</table>\n",
       "</div>"
      ],
      "text/plain": [
       "      chrom     start       end  length  \\\n",
       "2010  chr18    106490    107491    1000   \n",
       "2011  chr18    107683    108683    1000   \n",
       "2012  chr18    109561    110561    1000   \n",
       "2014  chr18    299114    300115    1000   \n",
       "2018  chr18  13168321  13169322    1000   \n",
       "\n",
       "                                                    seq  \n",
       "2010  CCCAACAGTGCAATTTGCTGGGTTATATGGTAAGCATATGTTTAGT...  \n",
       "2011  TTCACCATGTTGTCCAGGCTGGTTTCGAACTCCTGACATCAGGTGA...  \n",
       "2012  GCTGGGATTACAGGCGTGAGCCACCATGCCTGGCTGTTTAACTATT...  \n",
       "2014  TTCTGCACTGAAAGAAGGACTTGTTCAAATGGACTCTGGGTTGAAA...  \n",
       "2018  GAACAGAAAGAACTTAGCCTGAGGCCTGTTCCAGGGGCTCAGGGTG...  "
      ]
     },
     "execution_count": 19,
     "metadata": {},
     "output_type": "execute_result"
    }
   ],
   "source": [
    "class1.head()"
   ]
  },
  {
   "cell_type": "code",
   "execution_count": 20,
   "id": "regulated-variable",
   "metadata": {},
   "outputs": [],
   "source": [
    "class1.to_csv('class1.csv', index=False)"
   ]
  },
  {
   "cell_type": "code",
   "execution_count": 21,
   "id": "forbidden-monitor",
   "metadata": {},
   "outputs": [],
   "source": [
    "class2.to_csv('class2.csv', index=False)"
   ]
  },
  {
   "cell_type": "code",
   "execution_count": 24,
   "id": "superb-wings",
   "metadata": {},
   "outputs": [
    {
     "data": {
      "text/html": [
       "<div>\n",
       "<style scoped>\n",
       "    .dataframe tbody tr th:only-of-type {\n",
       "        vertical-align: middle;\n",
       "    }\n",
       "\n",
       "    .dataframe tbody tr th {\n",
       "        vertical-align: top;\n",
       "    }\n",
       "\n",
       "    .dataframe thead th {\n",
       "        text-align: right;\n",
       "    }\n",
       "</style>\n",
       "<table border=\"1\" class=\"dataframe\">\n",
       "  <thead>\n",
       "    <tr style=\"text-align: right;\">\n",
       "      <th></th>\n",
       "      <th>chrom</th>\n",
       "      <th>start</th>\n",
       "      <th>end</th>\n",
       "      <th>length</th>\n",
       "      <th>seq</th>\n",
       "      <th>strand</th>\n",
       "      <th>class</th>\n",
       "    </tr>\n",
       "  </thead>\n",
       "  <tbody>\n",
       "    <tr>\n",
       "      <th>2010</th>\n",
       "      <td>chr18</td>\n",
       "      <td>106490</td>\n",
       "      <td>107491</td>\n",
       "      <td>1000</td>\n",
       "      <td>CCCAACAGTGCAATTTGCTGGGTTATATGGTAAGCATATGTTTAGT...</td>\n",
       "      <td>1</td>\n",
       "      <td>1</td>\n",
       "    </tr>\n",
       "    <tr>\n",
       "      <th>2011</th>\n",
       "      <td>chr18</td>\n",
       "      <td>107683</td>\n",
       "      <td>108683</td>\n",
       "      <td>1000</td>\n",
       "      <td>TTCACCATGTTGTCCAGGCTGGTTTCGAACTCCTGACATCAGGTGA...</td>\n",
       "      <td>1</td>\n",
       "      <td>1</td>\n",
       "    </tr>\n",
       "    <tr>\n",
       "      <th>2012</th>\n",
       "      <td>chr18</td>\n",
       "      <td>109561</td>\n",
       "      <td>110561</td>\n",
       "      <td>1000</td>\n",
       "      <td>GCTGGGATTACAGGCGTGAGCCACCATGCCTGGCTGTTTAACTATT...</td>\n",
       "      <td>1</td>\n",
       "      <td>1</td>\n",
       "    </tr>\n",
       "    <tr>\n",
       "      <th>2014</th>\n",
       "      <td>chr18</td>\n",
       "      <td>299114</td>\n",
       "      <td>300115</td>\n",
       "      <td>1000</td>\n",
       "      <td>TTCTGCACTGAAAGAAGGACTTGTTCAAATGGACTCTGGGTTGAAA...</td>\n",
       "      <td>1</td>\n",
       "      <td>1</td>\n",
       "    </tr>\n",
       "    <tr>\n",
       "      <th>2018</th>\n",
       "      <td>chr18</td>\n",
       "      <td>13168321</td>\n",
       "      <td>13169322</td>\n",
       "      <td>1000</td>\n",
       "      <td>GAACAGAAAGAACTTAGCCTGAGGCCTGTTCCAGGGGCTCAGGGTG...</td>\n",
       "      <td>1</td>\n",
       "      <td>1</td>\n",
       "    </tr>\n",
       "  </tbody>\n",
       "</table>\n",
       "</div>"
      ],
      "text/plain": [
       "      chrom     start       end  length  \\\n",
       "2010  chr18    106490    107491    1000   \n",
       "2011  chr18    107683    108683    1000   \n",
       "2012  chr18    109561    110561    1000   \n",
       "2014  chr18    299114    300115    1000   \n",
       "2018  chr18  13168321  13169322    1000   \n",
       "\n",
       "                                                    seq strand  class  \n",
       "2010  CCCAACAGTGCAATTTGCTGGGTTATATGGTAAGCATATGTTTAGT...      1      1  \n",
       "2011  TTCACCATGTTGTCCAGGCTGGTTTCGAACTCCTGACATCAGGTGA...      1      1  \n",
       "2012  GCTGGGATTACAGGCGTGAGCCACCATGCCTGGCTGTTTAACTATT...      1      1  \n",
       "2014  TTCTGCACTGAAAGAAGGACTTGTTCAAATGGACTCTGGGTTGAAA...      1      1  \n",
       "2018  GAACAGAAAGAACTTAGCCTGAGGCCTGTTCCAGGGGCTCAGGGTG...      1      1  "
      ]
     },
     "execution_count": 24,
     "metadata": {},
     "output_type": "execute_result"
    }
   ],
   "source": [
    "class1['strand'] = '1'\n",
    "\n",
    "class1['class'] = 1\n",
    "\n",
    "class2['class'] = 0\n",
    "\n",
    "class1.head()"
   ]
  },
  {
   "cell_type": "code",
   "execution_count": 25,
   "id": "competitive-mathematics",
   "metadata": {},
   "outputs": [
    {
     "data": {
      "text/html": [
       "<div>\n",
       "<style scoped>\n",
       "    .dataframe tbody tr th:only-of-type {\n",
       "        vertical-align: middle;\n",
       "    }\n",
       "\n",
       "    .dataframe tbody tr th {\n",
       "        vertical-align: top;\n",
       "    }\n",
       "\n",
       "    .dataframe thead th {\n",
       "        text-align: right;\n",
       "    }\n",
       "</style>\n",
       "<table border=\"1\" class=\"dataframe\">\n",
       "  <thead>\n",
       "    <tr style=\"text-align: right;\">\n",
       "      <th></th>\n",
       "      <th>chrom</th>\n",
       "      <th>start</th>\n",
       "      <th>end</th>\n",
       "      <th>strand</th>\n",
       "      <th>length</th>\n",
       "      <th>seq</th>\n",
       "      <th>class</th>\n",
       "    </tr>\n",
       "  </thead>\n",
       "  <tbody>\n",
       "    <tr>\n",
       "      <th>32509</th>\n",
       "      <td>chr10</td>\n",
       "      <td>43699</td>\n",
       "      <td>44700</td>\n",
       "      <td>+</td>\n",
       "      <td>1000</td>\n",
       "      <td>ACTGACTGAGAGCTATGGCTCAGGATTAAAAATTCTTCTTTTTTCC...</td>\n",
       "      <td>0</td>\n",
       "    </tr>\n",
       "    <tr>\n",
       "      <th>32510</th>\n",
       "      <td>chr10</td>\n",
       "      <td>44187</td>\n",
       "      <td>45187</td>\n",
       "      <td>+</td>\n",
       "      <td>1000</td>\n",
       "      <td>CCCACTGCCCTTCCCAGCCTCTGGTAACCAACCTTATACTCTCTAT...</td>\n",
       "      <td>0</td>\n",
       "    </tr>\n",
       "    <tr>\n",
       "      <th>32511</th>\n",
       "      <td>chr10</td>\n",
       "      <td>46624</td>\n",
       "      <td>47625</td>\n",
       "      <td>+</td>\n",
       "      <td>1000</td>\n",
       "      <td>ACTTAACTATTGTGAGAATGGCTCCAAAGGAAATGATGCCAAACTG...</td>\n",
       "      <td>0</td>\n",
       "    </tr>\n",
       "    <tr>\n",
       "      <th>32512</th>\n",
       "      <td>chr10</td>\n",
       "      <td>47487</td>\n",
       "      <td>48487</td>\n",
       "      <td>+</td>\n",
       "      <td>1000</td>\n",
       "      <td>AGGTGGAGGCTCCCAAGTCTCAACTCTTGCATTTTGTACACTCACA...</td>\n",
       "      <td>0</td>\n",
       "    </tr>\n",
       "    <tr>\n",
       "      <th>32513</th>\n",
       "      <td>chr10</td>\n",
       "      <td>48590</td>\n",
       "      <td>49591</td>\n",
       "      <td>+</td>\n",
       "      <td>1000</td>\n",
       "      <td>TGCACATCACAGGGCAAAAAGCAGGAGCAGAAAACAGAGGGGCGAG...</td>\n",
       "      <td>0</td>\n",
       "    </tr>\n",
       "  </tbody>\n",
       "</table>\n",
       "</div>"
      ],
      "text/plain": [
       "       chrom  start    end strand  length  \\\n",
       "32509  chr10  43699  44700      +    1000   \n",
       "32510  chr10  44187  45187      +    1000   \n",
       "32511  chr10  46624  47625      +    1000   \n",
       "32512  chr10  47487  48487      +    1000   \n",
       "32513  chr10  48590  49591      +    1000   \n",
       "\n",
       "                                                     seq  class  \n",
       "32509  ACTGACTGAGAGCTATGGCTCAGGATTAAAAATTCTTCTTTTTTCC...      0  \n",
       "32510  CCCACTGCCCTTCCCAGCCTCTGGTAACCAACCTTATACTCTCTAT...      0  \n",
       "32511  ACTTAACTATTGTGAGAATGGCTCCAAAGGAAATGATGCCAAACTG...      0  \n",
       "32512  AGGTGGAGGCTCCCAAGTCTCAACTCTTGCATTTTGTACACTCACA...      0  \n",
       "32513  TGCACATCACAGGGCAAAAAGCAGGAGCAGAAAACAGAGGGGCGAG...      0  "
      ]
     },
     "execution_count": 25,
     "metadata": {},
     "output_type": "execute_result"
    }
   ],
   "source": [
    "class2.head()"
   ]
  },
  {
   "cell_type": "code",
   "execution_count": 26,
   "id": "expanded-drain",
   "metadata": {},
   "outputs": [],
   "source": [
    "classes = class1.copy()"
   ]
  },
  {
   "cell_type": "code",
   "execution_count": 27,
   "id": "lesser-tokyo",
   "metadata": {},
   "outputs": [],
   "source": [
    "classes = classes.append(class2)"
   ]
  },
  {
   "cell_type": "code",
   "execution_count": 28,
   "id": "norwegian-wireless",
   "metadata": {},
   "outputs": [
    {
     "data": {
      "text/html": [
       "<div>\n",
       "<style scoped>\n",
       "    .dataframe tbody tr th:only-of-type {\n",
       "        vertical-align: middle;\n",
       "    }\n",
       "\n",
       "    .dataframe tbody tr th {\n",
       "        vertical-align: top;\n",
       "    }\n",
       "\n",
       "    .dataframe thead th {\n",
       "        text-align: right;\n",
       "    }\n",
       "</style>\n",
       "<table border=\"1\" class=\"dataframe\">\n",
       "  <thead>\n",
       "    <tr style=\"text-align: right;\">\n",
       "      <th></th>\n",
       "      <th>chrom</th>\n",
       "      <th>start</th>\n",
       "      <th>end</th>\n",
       "      <th>length</th>\n",
       "      <th>seq</th>\n",
       "      <th>strand</th>\n",
       "      <th>class</th>\n",
       "    </tr>\n",
       "  </thead>\n",
       "  <tbody>\n",
       "    <tr>\n",
       "      <th>2010</th>\n",
       "      <td>chr18</td>\n",
       "      <td>106490</td>\n",
       "      <td>107491</td>\n",
       "      <td>1000</td>\n",
       "      <td>CCCAACAGTGCAATTTGCTGGGTTATATGGTAAGCATATGTTTAGT...</td>\n",
       "      <td>1</td>\n",
       "      <td>1</td>\n",
       "    </tr>\n",
       "    <tr>\n",
       "      <th>2011</th>\n",
       "      <td>chr18</td>\n",
       "      <td>107683</td>\n",
       "      <td>108683</td>\n",
       "      <td>1000</td>\n",
       "      <td>TTCACCATGTTGTCCAGGCTGGTTTCGAACTCCTGACATCAGGTGA...</td>\n",
       "      <td>1</td>\n",
       "      <td>1</td>\n",
       "    </tr>\n",
       "    <tr>\n",
       "      <th>2012</th>\n",
       "      <td>chr18</td>\n",
       "      <td>109561</td>\n",
       "      <td>110561</td>\n",
       "      <td>1000</td>\n",
       "      <td>GCTGGGATTACAGGCGTGAGCCACCATGCCTGGCTGTTTAACTATT...</td>\n",
       "      <td>1</td>\n",
       "      <td>1</td>\n",
       "    </tr>\n",
       "    <tr>\n",
       "      <th>2014</th>\n",
       "      <td>chr18</td>\n",
       "      <td>299114</td>\n",
       "      <td>300115</td>\n",
       "      <td>1000</td>\n",
       "      <td>TTCTGCACTGAAAGAAGGACTTGTTCAAATGGACTCTGGGTTGAAA...</td>\n",
       "      <td>1</td>\n",
       "      <td>1</td>\n",
       "    </tr>\n",
       "    <tr>\n",
       "      <th>2018</th>\n",
       "      <td>chr18</td>\n",
       "      <td>13168321</td>\n",
       "      <td>13169322</td>\n",
       "      <td>1000</td>\n",
       "      <td>GAACAGAAAGAACTTAGCCTGAGGCCTGTTCCAGGGGCTCAGGGTG...</td>\n",
       "      <td>1</td>\n",
       "      <td>1</td>\n",
       "    </tr>\n",
       "  </tbody>\n",
       "</table>\n",
       "</div>"
      ],
      "text/plain": [
       "      chrom     start       end  length  \\\n",
       "2010  chr18    106490    107491    1000   \n",
       "2011  chr18    107683    108683    1000   \n",
       "2012  chr18    109561    110561    1000   \n",
       "2014  chr18    299114    300115    1000   \n",
       "2018  chr18  13168321  13169322    1000   \n",
       "\n",
       "                                                    seq strand  class  \n",
       "2010  CCCAACAGTGCAATTTGCTGGGTTATATGGTAAGCATATGTTTAGT...      1      1  \n",
       "2011  TTCACCATGTTGTCCAGGCTGGTTTCGAACTCCTGACATCAGGTGA...      1      1  \n",
       "2012  GCTGGGATTACAGGCGTGAGCCACCATGCCTGGCTGTTTAACTATT...      1      1  \n",
       "2014  TTCTGCACTGAAAGAAGGACTTGTTCAAATGGACTCTGGGTTGAAA...      1      1  \n",
       "2018  GAACAGAAAGAACTTAGCCTGAGGCCTGTTCCAGGGGCTCAGGGTG...      1      1  "
      ]
     },
     "execution_count": 28,
     "metadata": {},
     "output_type": "execute_result"
    }
   ],
   "source": [
    "classes.head()"
   ]
  },
  {
   "cell_type": "code",
   "execution_count": 29,
   "id": "bibliographic-sheriff",
   "metadata": {},
   "outputs": [],
   "source": [
    "classes.to_csv('classes_merged.csv', index=False)"
   ]
  },
  {
   "cell_type": "code",
   "execution_count": 30,
   "id": "shared-convergence",
   "metadata": {},
   "outputs": [
    {
     "data": {
      "text/plain": [
       "(1555, 7)"
      ]
     },
     "execution_count": 30,
     "metadata": {},
     "output_type": "execute_result"
    }
   ],
   "source": [
    "class1.shape"
   ]
  },
  {
   "cell_type": "code",
   "execution_count": 31,
   "id": "atmospheric-pizza",
   "metadata": {},
   "outputs": [
    {
     "data": {
      "text/plain": [
       "(33270, 7)"
      ]
     },
     "execution_count": 31,
     "metadata": {},
     "output_type": "execute_result"
    }
   ],
   "source": [
    "class2.shape"
   ]
  }
 ],
 "metadata": {
  "kernelspec": {
   "display_name": "Python 3",
   "language": "python",
   "name": "python3"
  },
  "language_info": {
   "codemirror_mode": {
    "name": "ipython",
    "version": 3
   },
   "file_extension": ".py",
   "mimetype": "text/x-python",
   "name": "python",
   "nbconvert_exporter": "python",
   "pygments_lexer": "ipython3",
   "version": "3.9.5"
  }
 },
 "nbformat": 4,
 "nbformat_minor": 5
}
